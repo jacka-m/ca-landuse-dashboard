{
  "cells": [
    {
      "cell_type": "code",
      "source": [
        "# Cell 1: clone your GitHub repo and cd into it\n",
        "!rm -rf ca-landuse-dashboard-main\n",
        "!git clone https://github.com/jacka-m/ca-landuse-dashboard.git ca-landuse-dashboard-main\n",
        "%cd ca-landuse-dashboard-main\n"
      ],
      "metadata": {
        "id": "IqpD48JWZIwI",
        "outputId": "aa0eb173-f47a-4631-c9e4-f7432c3a52df",
        "colab": {
          "base_uri": "https://localhost:8080/"
        }
      },
      "execution_count": 1,
      "outputs": [
        {
          "output_type": "stream",
          "name": "stdout",
          "text": [
            "Cloning into 'ca-landuse-dashboard-main'...\n",
            "remote: Enumerating objects: 84, done.\u001b[K\n",
            "remote: Counting objects: 100% (84/84), done.\u001b[K\n",
            "remote: Compressing objects: 100% (66/66), done.\u001b[K\n",
            "remote: Total 84 (delta 30), reused 24 (delta 4), pack-reused 0 (from 0)\u001b[K\n",
            "Receiving objects: 100% (84/84), 539.44 KiB | 5.04 MiB/s, done.\n",
            "Resolving deltas: 100% (30/30), done.\n",
            "/content/ca-landuse-dashboard-main\n"
          ]
        }
      ]
    },
    {
      "cell_type": "code",
      "source": [
        "# Cell 2: install all dependencies\n",
        "!pip install geopandas rasterio numpy pandas requests tqdm"
      ],
      "metadata": {
        "id": "Uv5iG3uYZa37",
        "outputId": "7c5b9492-f9c4-4907-ed90-6e53d8ca9347",
        "colab": {
          "base_uri": "https://localhost:8080/"
        }
      },
      "execution_count": 2,
      "outputs": [
        {
          "output_type": "stream",
          "name": "stdout",
          "text": [
            "Requirement already satisfied: geopandas in /usr/local/lib/python3.11/dist-packages (1.0.1)\n",
            "Collecting rasterio\n",
            "  Downloading rasterio-1.4.3-cp311-cp311-manylinux_2_17_x86_64.manylinux2014_x86_64.whl.metadata (9.1 kB)\n",
            "Requirement already satisfied: numpy in /usr/local/lib/python3.11/dist-packages (2.0.2)\n",
            "Requirement already satisfied: pandas in /usr/local/lib/python3.11/dist-packages (2.2.2)\n",
            "Requirement already satisfied: requests in /usr/local/lib/python3.11/dist-packages (2.32.3)\n",
            "Requirement already satisfied: tqdm in /usr/local/lib/python3.11/dist-packages (4.67.1)\n",
            "Requirement already satisfied: pyogrio>=0.7.2 in /usr/local/lib/python3.11/dist-packages (from geopandas) (0.11.0)\n",
            "Requirement already satisfied: packaging in /usr/local/lib/python3.11/dist-packages (from geopandas) (24.2)\n",
            "Requirement already satisfied: pyproj>=3.3.0 in /usr/local/lib/python3.11/dist-packages (from geopandas) (3.7.1)\n",
            "Requirement already satisfied: shapely>=2.0.0 in /usr/local/lib/python3.11/dist-packages (from geopandas) (2.1.1)\n",
            "Collecting affine (from rasterio)\n",
            "  Downloading affine-2.4.0-py3-none-any.whl.metadata (4.0 kB)\n",
            "Requirement already satisfied: attrs in /usr/local/lib/python3.11/dist-packages (from rasterio) (25.3.0)\n",
            "Requirement already satisfied: certifi in /usr/local/lib/python3.11/dist-packages (from rasterio) (2025.6.15)\n",
            "Requirement already satisfied: click>=4.0 in /usr/local/lib/python3.11/dist-packages (from rasterio) (8.2.1)\n",
            "Collecting cligj>=0.5 (from rasterio)\n",
            "  Downloading cligj-0.7.2-py3-none-any.whl.metadata (5.0 kB)\n",
            "Collecting click-plugins (from rasterio)\n",
            "  Downloading click_plugins-1.1.1.2-py2.py3-none-any.whl.metadata (6.5 kB)\n",
            "Requirement already satisfied: pyparsing in /usr/local/lib/python3.11/dist-packages (from rasterio) (3.2.3)\n",
            "Requirement already satisfied: python-dateutil>=2.8.2 in /usr/local/lib/python3.11/dist-packages (from pandas) (2.9.0.post0)\n",
            "Requirement already satisfied: pytz>=2020.1 in /usr/local/lib/python3.11/dist-packages (from pandas) (2025.2)\n",
            "Requirement already satisfied: tzdata>=2022.7 in /usr/local/lib/python3.11/dist-packages (from pandas) (2025.2)\n",
            "Requirement already satisfied: charset-normalizer<4,>=2 in /usr/local/lib/python3.11/dist-packages (from requests) (3.4.2)\n",
            "Requirement already satisfied: idna<4,>=2.5 in /usr/local/lib/python3.11/dist-packages (from requests) (3.10)\n",
            "Requirement already satisfied: urllib3<3,>=1.21.1 in /usr/local/lib/python3.11/dist-packages (from requests) (2.4.0)\n",
            "Requirement already satisfied: six>=1.5 in /usr/local/lib/python3.11/dist-packages (from python-dateutil>=2.8.2->pandas) (1.17.0)\n",
            "Downloading rasterio-1.4.3-cp311-cp311-manylinux_2_17_x86_64.manylinux2014_x86_64.whl (22.2 MB)\n",
            "\u001b[2K   \u001b[90m━━━━━━━━━━━━━━━━━━━━━━━━━━━━━━━━━━━━━━━━\u001b[0m \u001b[32m22.2/22.2 MB\u001b[0m \u001b[31m73.0 MB/s\u001b[0m eta \u001b[36m0:00:00\u001b[0m\n",
            "\u001b[?25hDownloading cligj-0.7.2-py3-none-any.whl (7.1 kB)\n",
            "Downloading affine-2.4.0-py3-none-any.whl (15 kB)\n",
            "Downloading click_plugins-1.1.1.2-py2.py3-none-any.whl (11 kB)\n",
            "Installing collected packages: cligj, click-plugins, affine, rasterio\n",
            "Successfully installed affine-2.4.0 click-plugins-1.1.1.2 cligj-0.7.2 rasterio-1.4.3\n"
          ]
        }
      ]
    },
    {
      "cell_type": "code",
      "source": [
        "# Colab cell — download & summarize with tqdm bars\n",
        "\n",
        "from pathlib import Path\n",
        "import requests, zipfile, io\n",
        "import geopandas as gpd\n",
        "import rasterio\n",
        "import numpy as np\n",
        "import pandas as pd\n",
        "from rasterio.features import geometry_mask\n",
        "from tqdm import tqdm\n",
        "\n",
        "# 1. Define years and download links\n",
        "years = list(range(2008, 2025))\n",
        "download_links = {\n",
        "    'nlcd': {\n",
        "        yr: f\"https://www.mrlc.gov/downloads/sciweb1/shared/mrlc/data-bundles/Annual_NLCD_LndCov_{yr}_CU_C1V1.zip\"\n",
        "        for yr in years\n",
        "    },\n",
        "    'cropscape': {\n",
        "        yr: f\"https://www.nass.usda.gov/Research_and_Science/Cropland/Release/datasets/{yr}_30m_cdls.zip\"\n",
        "        for yr in years\n",
        "    }\n",
        "}\n",
        "\n",
        "# 2. Create target folders\n",
        "raw_nlcd      = Path(\"data/raw/nlcd\")\n",
        "raw_cropscape = Path(\"data/raw/cropscape\")\n",
        "raw_nlcd.mkdir(parents=True, exist_ok=True)\n",
        "raw_cropscape.mkdir(parents=True, exist_ok=True)\n",
        "\n",
        "# 3. Helper to download and extract only .tif files from a ZIP\n",
        "def download_and_extract_zip(url, dest_folder):\n",
        "    resp = requests.get(url, stream=True)\n",
        "    resp.raise_for_status()\n",
        "    z = zipfile.ZipFile(io.BytesIO(resp.content))\n",
        "    for member in z.namelist():\n",
        "        if member.lower().endswith('.tif'):\n",
        "            target_path = dest_folder / Path(member).name\n",
        "            with open(target_path, 'wb') as f:\n",
        "                f.write(z.read(member))\n",
        "\n",
        "# 4. Download & extract with progress bars\n",
        "for source, links in download_links.items():\n",
        "    dest = raw_nlcd if source == 'nlcd' else raw_cropscape\n",
        "    for yr, url in tqdm(links.items(), desc=f\"Downloading {source}\", unit=\"year\"):\n",
        "        download_and_extract_zip(url, dest)\n",
        "\n",
        "# 5. Load CA boundary\n",
        "boundary = gpd.read_file(\"data/ca_boundary.geojson\")\n",
        "\n",
        "# 6. Summarize rasters with progress bars\n",
        "records = []\n",
        "def summarize_raster(tif_path, label):\n",
        "    with rasterio.open(tif_path) as src:\n",
        "        arr = src.read(1).astype(float)\n",
        "        mask = geometry_mask(\n",
        "            boundary.geometry,\n",
        "            transform=src.transform,\n",
        "            invert=True,\n",
        "            out_shape=src.shape\n",
        "        )\n",
        "        data = arr[mask]\n",
        "        year = tif_path.stem.split(\"_\")[-1]\n",
        "        return {\n",
        "            \"dataset\":      label,\n",
        "            \"year\":         year,\n",
        "            \"mean_value\":   float(np.nanmean(data)),\n",
        "            \"valid_pixels\": int(np.count_nonzero(~np.isnan(data)))\n",
        "        }\n",
        "\n",
        "for label, folder in [('nlcd', raw_nlcd), ('cropscape', raw_cropscape)]:\n",
        "    tif_list = list(folder.glob(\"*.tif\"))\n",
        "    for tif in tqdm(tif_list, desc=f\"Summarizing {label}\", unit=\"file\"):\n",
        "        records.append(summarize_raster(tif, label))\n",
        "\n",
        "# 7. Save combined summary\n",
        "df = pd.DataFrame.from_records(records)\n",
        "df.to_csv(\"data/landcover_summary.csv\", index=False)\n",
        "print(f\"→ Saved data/landcover_summary.csv with {len(df)} rows\")\n"
      ],
      "metadata": {
        "id": "Y7OqaE4fZgYJ",
        "outputId": "edeb574f-ca0e-465e-8850-a0059d879766",
        "colab": {
          "base_uri": "https://localhost:8080/"
        }
      },
      "execution_count": null,
      "outputs": [
        {
          "output_type": "stream",
          "name": "stderr",
          "text": [
            "Downloading nlcd: 100%|██████████| 17/17 [38:15<00:00, 135.01s/year]\n",
            "Downloading cropscape:  65%|██████▍   | 11/17 [40:14<22:39, 226.59s/year]"
          ]
        }
      ]
    }
  ],
  "metadata": {
    "colab": {
      "name": "Welcome To Colab",
      "provenance": [],
      "gpuType": "T4"
    },
    "kernelspec": {
      "display_name": "Python 3",
      "name": "python3"
    },
    "accelerator": "GPU"
  },
  "nbformat": 4,
  "nbformat_minor": 0
}