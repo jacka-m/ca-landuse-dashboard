{
  "nbformat": 4,
  "nbformat_minor": 0,
  "metadata": {
    "colab": {
      "provenance": [],
      "authorship_tag": "ABX9TyNURvkWxLfTJMvt4oJ4q99p",
      "include_colab_link": true
    },
    "kernelspec": {
      "name": "python3",
      "display_name": "Python 3"
    },
    "language_info": {
      "name": "python"
    }
  },
  "cells": [
    {
      "cell_type": "markdown",
      "metadata": {
        "id": "view-in-github",
        "colab_type": "text"
      },
      "source": [
        "<a href=\"https://colab.research.google.com/github/jacka-m/ca-landuse-dashboard/blob/main/notebooks/data_ingest.ipynb\" target=\"_parent\"><img src=\"https://colab.research.google.com/assets/colab-badge.svg\" alt=\"Open In Colab\"/></a>"
      ]
    },
    {
      "cell_type": "code",
      "execution_count": 1,
      "metadata": {
        "id": "rxttzfEU22YX",
        "outputId": "d15e7acd-a147-4df3-9bec-671aec6384cf",
        "colab": {
          "base_uri": "https://localhost:8080/"
        }
      },
      "outputs": [
        {
          "output_type": "stream",
          "name": "stdout",
          "text": [
            "Collecting rasterio\n",
            "  Downloading rasterio-1.4.3-cp311-cp311-manylinux_2_17_x86_64.manylinux2014_x86_64.whl.metadata (9.1 kB)\n",
            "Requirement already satisfied: geopandas in /usr/local/lib/python3.11/dist-packages (1.0.1)\n",
            "Requirement already satisfied: pandas in /usr/local/lib/python3.11/dist-packages (2.2.2)\n",
            "Collecting affine (from rasterio)\n",
            "  Downloading affine-2.4.0-py3-none-any.whl.metadata (4.0 kB)\n",
            "Requirement already satisfied: attrs in /usr/local/lib/python3.11/dist-packages (from rasterio) (25.3.0)\n",
            "Requirement already satisfied: certifi in /usr/local/lib/python3.11/dist-packages (from rasterio) (2025.6.15)\n",
            "Requirement already satisfied: click>=4.0 in /usr/local/lib/python3.11/dist-packages (from rasterio) (8.2.1)\n",
            "Collecting cligj>=0.5 (from rasterio)\n",
            "  Downloading cligj-0.7.2-py3-none-any.whl.metadata (5.0 kB)\n",
            "Requirement already satisfied: numpy>=1.24 in /usr/local/lib/python3.11/dist-packages (from rasterio) (2.0.2)\n",
            "Collecting click-plugins (from rasterio)\n",
            "  Downloading click_plugins-1.1.1.2-py2.py3-none-any.whl.metadata (6.5 kB)\n",
            "Requirement already satisfied: pyparsing in /usr/local/lib/python3.11/dist-packages (from rasterio) (3.2.3)\n",
            "Requirement already satisfied: pyogrio>=0.7.2 in /usr/local/lib/python3.11/dist-packages (from geopandas) (0.11.0)\n",
            "Requirement already satisfied: packaging in /usr/local/lib/python3.11/dist-packages (from geopandas) (24.2)\n",
            "Requirement already satisfied: pyproj>=3.3.0 in /usr/local/lib/python3.11/dist-packages (from geopandas) (3.7.1)\n",
            "Requirement already satisfied: shapely>=2.0.0 in /usr/local/lib/python3.11/dist-packages (from geopandas) (2.1.1)\n",
            "Requirement already satisfied: python-dateutil>=2.8.2 in /usr/local/lib/python3.11/dist-packages (from pandas) (2.9.0.post0)\n",
            "Requirement already satisfied: pytz>=2020.1 in /usr/local/lib/python3.11/dist-packages (from pandas) (2025.2)\n",
            "Requirement already satisfied: tzdata>=2022.7 in /usr/local/lib/python3.11/dist-packages (from pandas) (2025.2)\n",
            "Requirement already satisfied: six>=1.5 in /usr/local/lib/python3.11/dist-packages (from python-dateutil>=2.8.2->pandas) (1.17.0)\n",
            "Downloading rasterio-1.4.3-cp311-cp311-manylinux_2_17_x86_64.manylinux2014_x86_64.whl (22.2 MB)\n",
            "\u001b[2K   \u001b[90m━━━━━━━━━━━━━━━━━━━━━━━━━━━━━━━━━━━━━━━━\u001b[0m \u001b[32m22.2/22.2 MB\u001b[0m \u001b[31m53.0 MB/s\u001b[0m eta \u001b[36m0:00:00\u001b[0m\n",
            "\u001b[?25hDownloading cligj-0.7.2-py3-none-any.whl (7.1 kB)\n",
            "Downloading affine-2.4.0-py3-none-any.whl (15 kB)\n",
            "Downloading click_plugins-1.1.1.2-py2.py3-none-any.whl (11 kB)\n",
            "Installing collected packages: cligj, click-plugins, affine, rasterio\n",
            "Successfully installed affine-2.4.0 click-plugins-1.1.1.2 cligj-0.7.2 rasterio-1.4.3\n"
          ]
        }
      ],
      "source": [
        "!pip install rasterio geopandas pandas"
      ]
    },
    {
      "cell_type": "code",
      "source": [
        "import rasterio, geopandas as gpd"
      ],
      "metadata": {
        "id": "kwWs8c5O3Sag"
      },
      "execution_count": 2,
      "outputs": []
    },
    {
      "cell_type": "code",
      "source": [
        "print(\"rasterio:\", rasterio.__version__)\n",
        "print(\"geopandas:\", gpd.__version__)"
      ],
      "metadata": {
        "id": "DWxAmHGG3Zu2",
        "outputId": "f559ddaa-9740-46d8-b23e-4fa2c6eea9b5",
        "colab": {
          "base_uri": "https://localhost:8080/"
        }
      },
      "execution_count": 4,
      "outputs": [
        {
          "output_type": "stream",
          "name": "stdout",
          "text": [
            "rasterio: 1.4.3\n",
            "geopandas: 1.0.1\n"
          ]
        }
      ]
    },
    {
      "cell_type": "code",
      "source": [
        "import os\n",
        "\n",
        "os.makedirs('/content/data', exist_ok=True)\n",
        "url = (\n",
        "    'https://prd-tnm.s3.amazonaws.com/'\n",
        "    'StagedProducts/NLCD/data/2021/landcover/CONUS/'\n",
        "    'nlcd_2021_land_cover_l48_20210604.zip'\n",
        ")\n",
        "zip_path = '/content/data/nlcd2021.zip'\n",
        "\n",
        "# Verbose wget to see HTTP status\n",
        "!curl -L {url} -o /content/data/nlcd2021.zip\n",
        "!ls -lh /content/data/nlcd2021.zip\n",
        "\n",
        "\n"
      ],
      "metadata": {
        "id": "9eX90eqI3x7i",
        "outputId": "ce4b8564-1944-44cf-e042-748c9d329497",
        "colab": {
          "base_uri": "https://localhost:8080/"
        }
      },
      "execution_count": 7,
      "outputs": [
        {
          "output_type": "stream",
          "name": "stdout",
          "text": [
            "  % Total    % Received % Xferd  Average Speed   Time    Time     Time  Current\n",
            "                                 Dload  Upload   Total   Spent    Left  Speed\n",
            "\r  0     0    0     0    0     0      0      0 --:--:-- --:--:-- --:--:--     0\r100   354    0   354    0     0   2801      0 --:--:-- --:--:-- --:--:--  2809\n",
            "-rw-r--r-- 1 root root 354 Jul  7 21:53 /content/data/nlcd2021.zip\n"
          ]
        }
      ]
    },
    {
      "cell_type": "code",
      "source": [
        "from google.colab import drive\n",
        "drive.mount('/content/drive')\n",
        "\n",
        "\n"
      ],
      "metadata": {
        "id": "bmSsDhzh58Ee",
        "outputId": "64bfdc21-6de6-4547-f998-33b0d8a2e81c",
        "colab": {
          "base_uri": "https://localhost:8080/"
        }
      },
      "execution_count": 10,
      "outputs": [
        {
          "output_type": "stream",
          "name": "stdout",
          "text": [
            "Mounted at /content/drive\n"
          ]
        }
      ]
    },
    {
      "cell_type": "code",
      "source": [
        "import os\n",
        "\n",
        "# Path to your ZIP on Drive – update if you placed it elsewhere\n",
        "zip_path = '/content/drive/My Drive/NLCD/Annual_NLCD_LndCov_2021_CU_C1V1.zip'\n",
        "\n",
        "# Ensure target folder\n",
        "os.makedirs('/content/data', exist_ok=True)\n",
        "\n",
        "# Unzip\n",
        "!unzip -q \"{zip_path}\" -d /content/data/\n",
        "\n",
        "# List out a sample of files\n",
        "print(\"Extracted files:\", os.listdir('/content/data')[:10])\n"
      ],
      "metadata": {
        "id": "_4hnrgPjCSJG",
        "outputId": "e2b98ee0-a89d-425c-cefc-66d97483fdf7",
        "colab": {
          "base_uri": "https://localhost:8080/"
        }
      },
      "execution_count": 15,
      "outputs": [
        {
          "output_type": "stream",
          "name": "stdout",
          "text": [
            "unzip:  cannot find or open /content/drive/My Drive/NLCD/Annual_NLCD_LndCov_2021_CU_C1V1.zip, /content/drive/My Drive/NLCD/Annual_NLCD_LndCov_2021_CU_C1V1.zip.zip or /content/drive/My Drive/NLCD/Annual_NLCD_LndCov_2021_CU_C1V1.zip.ZIP.\n",
            "Extracted files: ['nlcd2021.zip']\n"
          ]
        }
      ]
    },
    {
      "cell_type": "code",
      "source": [
        "import os\n",
        "\n",
        "# List your NLCD folder contents\n",
        "drive_nlcd = '/content/drive/My Drive/NLCD'\n",
        "print(\"Contents of\", drive_nlcd, \"→\")\n",
        "print(os.listdir(drive_nlcd))\n"
      ],
      "metadata": {
        "id": "hyNGdPQBDI8L",
        "outputId": "952aded9-2954-4681-9f98-1e7c47ad3c72",
        "colab": {
          "base_uri": "https://localhost:8080/"
        }
      },
      "execution_count": 16,
      "outputs": [
        {
          "output_type": "stream",
          "name": "stdout",
          "text": [
            "Contents of /content/drive/My Drive/NLCD →\n",
            "[]\n"
          ]
        }
      ]
    }
  ]
}