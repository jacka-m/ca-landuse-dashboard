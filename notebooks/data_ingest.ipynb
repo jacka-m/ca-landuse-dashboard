{
  "nbformat": 4,
  "nbformat_minor": 0,
  "metadata": {
    "colab": {
<<<<<<< HEAD
      "provenance": [],
      "authorship_tag": "ABX9TyNURvkWxLfTJMvt4oJ4q99p",
      "include_colab_link": true
=======
      "provenance": []
>>>>>>> 9a5e669 (Update data_ingest notebook with summary plot code)
    },
    "kernelspec": {
      "name": "python3",
      "display_name": "Python 3"
    },
    "language_info": {
      "name": "python"
    }
  },
  "cells": [
    {
<<<<<<< HEAD
      "cell_type": "markdown",
      "metadata": {
        "id": "view-in-github",
        "colab_type": "text"
      },
      "source": [
        "<a href=\"https://colab.research.google.com/github/jacka-m/ca-landuse-dashboard/blob/main/notebooks/data_ingest.ipynb\" target=\"_parent\"><img src=\"https://colab.research.google.com/assets/colab-badge.svg\" alt=\"Open In Colab\"/></a>"
      ]
    },
    {
      "cell_type": "code",
      "execution_count": 1,
=======
      "cell_type": "code",
      "execution_count": null,
>>>>>>> 9a5e669 (Update data_ingest notebook with summary plot code)
      "metadata": {
        "id": "rxttzfEU22YX",
        "outputId": "d15e7acd-a147-4df3-9bec-671aec6384cf",
        "colab": {
          "base_uri": "https://localhost:8080/"
        }
      },
      "outputs": [
        {
          "output_type": "stream",
          "name": "stdout",
          "text": [
            "Collecting rasterio\n",
            "  Downloading rasterio-1.4.3-cp311-cp311-manylinux_2_17_x86_64.manylinux2014_x86_64.whl.metadata (9.1 kB)\n",
            "Requirement already satisfied: geopandas in /usr/local/lib/python3.11/dist-packages (1.0.1)\n",
            "Requirement already satisfied: pandas in /usr/local/lib/python3.11/dist-packages (2.2.2)\n",
            "Collecting affine (from rasterio)\n",
            "  Downloading affine-2.4.0-py3-none-any.whl.metadata (4.0 kB)\n",
            "Requirement already satisfied: attrs in /usr/local/lib/python3.11/dist-packages (from rasterio) (25.3.0)\n",
            "Requirement already satisfied: certifi in /usr/local/lib/python3.11/dist-packages (from rasterio) (2025.6.15)\n",
            "Requirement already satisfied: click>=4.0 in /usr/local/lib/python3.11/dist-packages (from rasterio) (8.2.1)\n",
            "Collecting cligj>=0.5 (from rasterio)\n",
            "  Downloading cligj-0.7.2-py3-none-any.whl.metadata (5.0 kB)\n",
            "Requirement already satisfied: numpy>=1.24 in /usr/local/lib/python3.11/dist-packages (from rasterio) (2.0.2)\n",
            "Collecting click-plugins (from rasterio)\n",
            "  Downloading click_plugins-1.1.1.2-py2.py3-none-any.whl.metadata (6.5 kB)\n",
            "Requirement already satisfied: pyparsing in /usr/local/lib/python3.11/dist-packages (from rasterio) (3.2.3)\n",
            "Requirement already satisfied: pyogrio>=0.7.2 in /usr/local/lib/python3.11/dist-packages (from geopandas) (0.11.0)\n",
            "Requirement already satisfied: packaging in /usr/local/lib/python3.11/dist-packages (from geopandas) (24.2)\n",
            "Requirement already satisfied: pyproj>=3.3.0 in /usr/local/lib/python3.11/dist-packages (from geopandas) (3.7.1)\n",
            "Requirement already satisfied: shapely>=2.0.0 in /usr/local/lib/python3.11/dist-packages (from geopandas) (2.1.1)\n",
            "Requirement already satisfied: python-dateutil>=2.8.2 in /usr/local/lib/python3.11/dist-packages (from pandas) (2.9.0.post0)\n",
            "Requirement already satisfied: pytz>=2020.1 in /usr/local/lib/python3.11/dist-packages (from pandas) (2025.2)\n",
            "Requirement already satisfied: tzdata>=2022.7 in /usr/local/lib/python3.11/dist-packages (from pandas) (2025.2)\n",
            "Requirement already satisfied: six>=1.5 in /usr/local/lib/python3.11/dist-packages (from python-dateutil>=2.8.2->pandas) (1.17.0)\n",
            "Downloading rasterio-1.4.3-cp311-cp311-manylinux_2_17_x86_64.manylinux2014_x86_64.whl (22.2 MB)\n",
            "\u001b[2K   \u001b[90m━━━━━━━━━━━━━━━━━━━━━━━━━━━━━━━━━━━━━━━━\u001b[0m \u001b[32m22.2/22.2 MB\u001b[0m \u001b[31m53.0 MB/s\u001b[0m eta \u001b[36m0:00:00\u001b[0m\n",
            "\u001b[?25hDownloading cligj-0.7.2-py3-none-any.whl (7.1 kB)\n",
            "Downloading affine-2.4.0-py3-none-any.whl (15 kB)\n",
            "Downloading click_plugins-1.1.1.2-py2.py3-none-any.whl (11 kB)\n",
            "Installing collected packages: cligj, click-plugins, affine, rasterio\n",
            "Successfully installed affine-2.4.0 click-plugins-1.1.1.2 cligj-0.7.2 rasterio-1.4.3\n"
          ]
        }
      ],
      "source": [
        "!pip install rasterio geopandas pandas"
      ]
    },
    {
      "cell_type": "code",
      "source": [
        "import rasterio, geopandas as gpd"
      ],
      "metadata": {
        "id": "kwWs8c5O3Sag"
      },
<<<<<<< HEAD
      "execution_count": 2,
=======
      "execution_count": null,
>>>>>>> 9a5e669 (Update data_ingest notebook with summary plot code)
      "outputs": []
    },
    {
      "cell_type": "code",
      "source": [
        "print(\"rasterio:\", rasterio.__version__)\n",
        "print(\"geopandas:\", gpd.__version__)"
      ],
      "metadata": {
        "id": "DWxAmHGG3Zu2",
        "outputId": "f559ddaa-9740-46d8-b23e-4fa2c6eea9b5",
        "colab": {
          "base_uri": "https://localhost:8080/"
        }
      },
<<<<<<< HEAD
      "execution_count": 4,
=======
      "execution_count": null,
>>>>>>> 9a5e669 (Update data_ingest notebook with summary plot code)
      "outputs": [
        {
          "output_type": "stream",
          "name": "stdout",
          "text": [
            "rasterio: 1.4.3\n",
            "geopandas: 1.0.1\n"
          ]
        }
      ]
    },
    {
      "cell_type": "code",
      "source": [
        "import os\n",
        "\n",
        "os.makedirs('/content/data', exist_ok=True)\n",
        "url = (\n",
        "    'https://prd-tnm.s3.amazonaws.com/'\n",
        "    'StagedProducts/NLCD/data/2021/landcover/CONUS/'\n",
        "    'nlcd_2021_land_cover_l48_20210604.zip'\n",
        ")\n",
        "zip_path = '/content/data/nlcd2021.zip'\n",
        "\n",
        "# Verbose wget to see HTTP status\n",
        "!curl -L {url} -o /content/data/nlcd2021.zip\n",
        "!ls -lh /content/data/nlcd2021.zip\n",
        "\n",
        "\n"
      ],
      "metadata": {
        "id": "9eX90eqI3x7i",
        "outputId": "ce4b8564-1944-44cf-e042-748c9d329497",
        "colab": {
          "base_uri": "https://localhost:8080/"
        }
      },
<<<<<<< HEAD
      "execution_count": 7,
=======
      "execution_count": null,
>>>>>>> 9a5e669 (Update data_ingest notebook with summary plot code)
      "outputs": [
        {
          "output_type": "stream",
          "name": "stdout",
          "text": [
            "  % Total    % Received % Xferd  Average Speed   Time    Time     Time  Current\n",
            "                                 Dload  Upload   Total   Spent    Left  Speed\n",
            "\r  0     0    0     0    0     0      0      0 --:--:-- --:--:-- --:--:--     0\r100   354    0   354    0     0   2801      0 --:--:-- --:--:-- --:--:--  2809\n",
            "-rw-r--r-- 1 root root 354 Jul  7 21:53 /content/data/nlcd2021.zip\n"
          ]
        }
      ]
    },
    {
      "cell_type": "code",
      "source": [
        "from google.colab import drive\n",
        "drive.mount('/content/drive')\n",
        "\n",
        "\n"
      ],
      "metadata": {
        "id": "bmSsDhzh58Ee",
        "outputId": "64bfdc21-6de6-4547-f998-33b0d8a2e81c",
        "colab": {
          "base_uri": "https://localhost:8080/"
        }
      },
<<<<<<< HEAD
      "execution_count": 10,
=======
      "execution_count": null,
>>>>>>> 9a5e669 (Update data_ingest notebook with summary plot code)
      "outputs": [
        {
          "output_type": "stream",
          "name": "stdout",
          "text": [
            "Mounted at /content/drive\n"
          ]
        }
      ]
    },
    {
      "cell_type": "code",
      "source": [
        "import os\n",
        "\n",
        "# Path to your ZIP on Drive – update if you placed it elsewhere\n",
        "zip_path = '/content/drive/My Drive/NLCD/Annual_NLCD_LndCov_2021_CU_C1V1.zip'\n",
        "\n",
        "# Ensure target folder\n",
        "os.makedirs('/content/data', exist_ok=True)\n",
        "\n",
        "# Unzip\n",
        "!unzip -q \"{zip_path}\" -d /content/data/\n",
        "\n",
        "# List out a sample of files\n",
        "print(\"Extracted files:\", os.listdir('/content/data')[:10])\n"
      ],
      "metadata": {
        "id": "_4hnrgPjCSJG",
<<<<<<< HEAD
        "outputId": "e2b98ee0-a89d-425c-cefc-66d97483fdf7",
=======
        "outputId": "f23a8905-410e-441b-d9bb-ea9cc1ec96e1",
>>>>>>> 9a5e669 (Update data_ingest notebook with summary plot code)
        "colab": {
          "base_uri": "https://localhost:8080/"
        }
      },
<<<<<<< HEAD
      "execution_count": 15,
=======
      "execution_count": 18,
>>>>>>> 9a5e669 (Update data_ingest notebook with summary plot code)
      "outputs": [
        {
          "output_type": "stream",
          "name": "stdout",
          "text": [
<<<<<<< HEAD
            "unzip:  cannot find or open /content/drive/My Drive/NLCD/Annual_NLCD_LndCov_2021_CU_C1V1.zip, /content/drive/My Drive/NLCD/Annual_NLCD_LndCov_2021_CU_C1V1.zip.zip or /content/drive/My Drive/NLCD/Annual_NLCD_LndCov_2021_CU_C1V1.zip.ZIP.\n",
            "Extracted files: ['nlcd2021.zip']\n"
=======
            "Extracted files: ['Annual_NLCD_LndCov_2021_CU_C1V1.tif', 'Annual_NLCD_LndCov_2021_CU_C1V1.xml', 'Annual_NLCD_LndCov_2021_CU_C1V1.tif.aux.xml', 'nlcd2021.zip']\n"
>>>>>>> 9a5e669 (Update data_ingest notebook with summary plot code)
          ]
        }
      ]
    },
    {
      "cell_type": "code",
      "source": [
<<<<<<< HEAD
        "import os\n",
        "\n",
        "# List your NLCD folder contents\n",
        "drive_nlcd = '/content/drive/My Drive/NLCD'\n",
        "print(\"Contents of\", drive_nlcd, \"→\")\n",
        "print(os.listdir(drive_nlcd))\n"
      ],
      "metadata": {
        "id": "hyNGdPQBDI8L",
        "outputId": "952aded9-2954-4681-9f98-1e7c47ad3c72",
=======
        "import geopandas as gpd\n",
        "import rasterio\n",
        "from rasterio.windows import from_bounds\n",
        "from rasterio.enums import Resampling\n",
        "import matplotlib.pyplot as plt\n",
        "import requests\n",
        "\n",
        "# 1. Get CA geometry\n",
        "states_url = \"https://raw.githubusercontent.com/PublicaMundi/MappingAPI/master/data/geojson/us-states.json\"\n",
        "states = gpd.read_file(states_url)\n",
        "ca = states[states['name'] == \"California\"]\n",
        "\n",
        "# 2. Open the TIFF\n",
        "tif_path = \"/content/data/Annual_NLCD_LndCov_2021_CU_C1V1.tif\"\n",
        "with rasterio.open(tif_path) as src:\n",
        "    # Reproject CA to raster CRS\n",
        "    if ca.crs != src.crs:\n",
        "        ca = ca.to_crs(src.crs)\n",
        "\n",
        "    # 3. Compute window for CA bounds\n",
        "    minx, miny, maxx, maxy = ca.total_bounds\n",
        "    window = from_bounds(minx, miny, maxx, maxy, transform=src.transform)\n",
        "\n",
        "    # 4. Read at lower resolution (out_shape)\n",
        "    # target shape: height=500, width proportional\n",
        "    target_height = 500\n",
        "    # compute scale factor\n",
        "    scale = window.height / target_height\n",
        "    target_width = int(window.width / scale)\n",
        "\n",
        "    out_image = src.read(\n",
        "        1,\n",
        "        window=window,\n",
        "        out_shape=(target_height, target_width),\n",
        "        resampling=Resampling.nearest\n",
        "    )\n",
        "\n",
        "# 5. Plot\n",
        "plt.figure(figsize=(6,6))\n",
        "plt.imshow(out_image, cmap='tab20', interpolation='nearest')\n",
        "plt.title(\"Downsampled NLCD 2021 — CA Preview\")\n",
        "plt.axis(\"off\")\n",
        "plt.show()\n",
        "\n"
      ],
      "metadata": {
        "id": "hyNGdPQBDI8L",
        "outputId": "78acf742-a18b-42e3-c7ac-91bce5114755",
        "colab": {
          "base_uri": "https://localhost:8080/",
          "height": 521
        }
      },
      "execution_count": 2,
      "outputs": [
        {
          "output_type": "display_data",
          "data": {
            "text/plain": [
              "<Figure size 600x600 with 1 Axes>"
            ],
            "image/png": "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\n"
          },
          "metadata": {}
        }
      ]
    },
    {
      "cell_type": "code",
      "source": [
        "# NLCD Level I code groups\n",
        "class_map = {\n",
        "    # Forest\n",
        "    41: \"Forest\", 42: \"Forest\", 43: \"Forest\", 52: \"Shrubland\",\n",
        "    # Agriculture\n",
        "    81: \"Agriculture\", 82: \"Agriculture\",\n",
        "    # Developed\n",
        "    21: \"Urban\", 22: \"Urban\", 23: \"Urban\", 24: \"Urban\",\n",
        "    # Wetlands & Water\n",
        "    90: \"Wetlands\", 95: \"Wetlands\", 11: \"Water\"\n",
        "}\n"
      ],
      "metadata": {
        "id": "aLaRebKXEPoO"
      },
      "execution_count": 3,
      "outputs": []
    },
    {
      "cell_type": "code",
      "source": [
        "import numpy as np\n",
        "import pandas as pd\n",
        "\n",
        "# out_image is the downsampled array; if you want full resolution,\n",
        "# run the same mask code without out_shape (but beware RAM).\n",
        "arr = out_image\n",
        "\n",
        "# Flatten and filter out nodata values (assuming nodata is 0)\n",
        "flat = arr.flatten()\n",
        "flat = flat[flat != 0]\n",
        "\n",
        "# Map each code to its group\n",
        "groups = [class_map.get(code, \"Other\") for code in flat]\n",
        "\n",
        "# Count pixels per group\n",
        "df = pd.DataFrame(groups, columns=[\"category\"])\n",
        "counts = df[\"category\"].value_counts().rename(\"pixel_count\")\n"
      ],
      "metadata": {
        "id": "g3HxT-XzERvf"
      },
      "execution_count": 4,
      "outputs": []
    },
    {
      "cell_type": "code",
      "source": [
        "# pixel area in hectares\n",
        "ha_per_pixel = 900 / 10000\n",
        "\n",
        "summary = counts.reset_index().rename(columns={\"index\": \"category\"})\n",
        "summary[\"area_ha\"] = summary[\"pixel_count\"] * ha_per_pixel\n",
        "summary\n"
      ],
      "metadata": {
        "id": "26tAVTZoEUPi",
        "outputId": "1d5983b8-7122-4e1b-8c58-78fee38ec1ca",
        "colab": {
          "base_uri": "https://localhost:8080/",
          "height": 269
        }
      },
      "execution_count": 5,
      "outputs": [
        {
          "output_type": "execute_result",
          "data": {
            "text/plain": [
              "      category  pixel_count  area_ha\n",
              "0    Shrubland        63254  5692.86\n",
              "1        Other        48035  4323.15\n",
              "2       Forest        17161  1544.49\n",
              "3  Agriculture         7506   675.54\n",
              "4        Urban         5509   495.81\n",
              "5        Water         3446   310.14\n",
              "6     Wetlands         1589   143.01"
            ],
            "text/html": [
              "\n",
              "  <div id=\"df-fc84dfe3-9205-40fc-8572-c03d1b86b002\" class=\"colab-df-container\">\n",
              "    <div>\n",
              "<style scoped>\n",
              "    .dataframe tbody tr th:only-of-type {\n",
              "        vertical-align: middle;\n",
              "    }\n",
              "\n",
              "    .dataframe tbody tr th {\n",
              "        vertical-align: top;\n",
              "    }\n",
              "\n",
              "    .dataframe thead th {\n",
              "        text-align: right;\n",
              "    }\n",
              "</style>\n",
              "<table border=\"1\" class=\"dataframe\">\n",
              "  <thead>\n",
              "    <tr style=\"text-align: right;\">\n",
              "      <th></th>\n",
              "      <th>category</th>\n",
              "      <th>pixel_count</th>\n",
              "      <th>area_ha</th>\n",
              "    </tr>\n",
              "  </thead>\n",
              "  <tbody>\n",
              "    <tr>\n",
              "      <th>0</th>\n",
              "      <td>Shrubland</td>\n",
              "      <td>63254</td>\n",
              "      <td>5692.86</td>\n",
              "    </tr>\n",
              "    <tr>\n",
              "      <th>1</th>\n",
              "      <td>Other</td>\n",
              "      <td>48035</td>\n",
              "      <td>4323.15</td>\n",
              "    </tr>\n",
              "    <tr>\n",
              "      <th>2</th>\n",
              "      <td>Forest</td>\n",
              "      <td>17161</td>\n",
              "      <td>1544.49</td>\n",
              "    </tr>\n",
              "    <tr>\n",
              "      <th>3</th>\n",
              "      <td>Agriculture</td>\n",
              "      <td>7506</td>\n",
              "      <td>675.54</td>\n",
              "    </tr>\n",
              "    <tr>\n",
              "      <th>4</th>\n",
              "      <td>Urban</td>\n",
              "      <td>5509</td>\n",
              "      <td>495.81</td>\n",
              "    </tr>\n",
              "    <tr>\n",
              "      <th>5</th>\n",
              "      <td>Water</td>\n",
              "      <td>3446</td>\n",
              "      <td>310.14</td>\n",
              "    </tr>\n",
              "    <tr>\n",
              "      <th>6</th>\n",
              "      <td>Wetlands</td>\n",
              "      <td>1589</td>\n",
              "      <td>143.01</td>\n",
              "    </tr>\n",
              "  </tbody>\n",
              "</table>\n",
              "</div>\n",
              "    <div class=\"colab-df-buttons\">\n",
              "\n",
              "  <div class=\"colab-df-container\">\n",
              "    <button class=\"colab-df-convert\" onclick=\"convertToInteractive('df-fc84dfe3-9205-40fc-8572-c03d1b86b002')\"\n",
              "            title=\"Convert this dataframe to an interactive table.\"\n",
              "            style=\"display:none;\">\n",
              "\n",
              "  <svg xmlns=\"http://www.w3.org/2000/svg\" height=\"24px\" viewBox=\"0 -960 960 960\">\n",
              "    <path d=\"M120-120v-720h720v720H120Zm60-500h600v-160H180v160Zm220 220h160v-160H400v160Zm0 220h160v-160H400v160ZM180-400h160v-160H180v160Zm440 0h160v-160H620v160ZM180-180h160v-160H180v160Zm440 0h160v-160H620v160Z\"/>\n",
              "  </svg>\n",
              "    </button>\n",
              "\n",
              "  <style>\n",
              "    .colab-df-container {\n",
              "      display:flex;\n",
              "      gap: 12px;\n",
              "    }\n",
              "\n",
              "    .colab-df-convert {\n",
              "      background-color: #E8F0FE;\n",
              "      border: none;\n",
              "      border-radius: 50%;\n",
              "      cursor: pointer;\n",
              "      display: none;\n",
              "      fill: #1967D2;\n",
              "      height: 32px;\n",
              "      padding: 0 0 0 0;\n",
              "      width: 32px;\n",
              "    }\n",
              "\n",
              "    .colab-df-convert:hover {\n",
              "      background-color: #E2EBFA;\n",
              "      box-shadow: 0px 1px 2px rgba(60, 64, 67, 0.3), 0px 1px 3px 1px rgba(60, 64, 67, 0.15);\n",
              "      fill: #174EA6;\n",
              "    }\n",
              "\n",
              "    .colab-df-buttons div {\n",
              "      margin-bottom: 4px;\n",
              "    }\n",
              "\n",
              "    [theme=dark] .colab-df-convert {\n",
              "      background-color: #3B4455;\n",
              "      fill: #D2E3FC;\n",
              "    }\n",
              "\n",
              "    [theme=dark] .colab-df-convert:hover {\n",
              "      background-color: #434B5C;\n",
              "      box-shadow: 0px 1px 3px 1px rgba(0, 0, 0, 0.15);\n",
              "      filter: drop-shadow(0px 1px 2px rgba(0, 0, 0, 0.3));\n",
              "      fill: #FFFFFF;\n",
              "    }\n",
              "  </style>\n",
              "\n",
              "    <script>\n",
              "      const buttonEl =\n",
              "        document.querySelector('#df-fc84dfe3-9205-40fc-8572-c03d1b86b002 button.colab-df-convert');\n",
              "      buttonEl.style.display =\n",
              "        google.colab.kernel.accessAllowed ? 'block' : 'none';\n",
              "\n",
              "      async function convertToInteractive(key) {\n",
              "        const element = document.querySelector('#df-fc84dfe3-9205-40fc-8572-c03d1b86b002');\n",
              "        const dataTable =\n",
              "          await google.colab.kernel.invokeFunction('convertToInteractive',\n",
              "                                                    [key], {});\n",
              "        if (!dataTable) return;\n",
              "\n",
              "        const docLinkHtml = 'Like what you see? Visit the ' +\n",
              "          '<a target=\"_blank\" href=https://colab.research.google.com/notebooks/data_table.ipynb>data table notebook</a>'\n",
              "          + ' to learn more about interactive tables.';\n",
              "        element.innerHTML = '';\n",
              "        dataTable['output_type'] = 'display_data';\n",
              "        await google.colab.output.renderOutput(dataTable, element);\n",
              "        const docLink = document.createElement('div');\n",
              "        docLink.innerHTML = docLinkHtml;\n",
              "        element.appendChild(docLink);\n",
              "      }\n",
              "    </script>\n",
              "  </div>\n",
              "\n",
              "\n",
              "    <div id=\"df-c8fb52ee-2cae-458d-9134-dde06c3657d9\">\n",
              "      <button class=\"colab-df-quickchart\" onclick=\"quickchart('df-c8fb52ee-2cae-458d-9134-dde06c3657d9')\"\n",
              "                title=\"Suggest charts\"\n",
              "                style=\"display:none;\">\n",
              "\n",
              "<svg xmlns=\"http://www.w3.org/2000/svg\" height=\"24px\"viewBox=\"0 0 24 24\"\n",
              "     width=\"24px\">\n",
              "    <g>\n",
              "        <path d=\"M19 3H5c-1.1 0-2 .9-2 2v14c0 1.1.9 2 2 2h14c1.1 0 2-.9 2-2V5c0-1.1-.9-2-2-2zM9 17H7v-7h2v7zm4 0h-2V7h2v10zm4 0h-2v-4h2v4z\"/>\n",
              "    </g>\n",
              "</svg>\n",
              "      </button>\n",
              "\n",
              "<style>\n",
              "  .colab-df-quickchart {\n",
              "      --bg-color: #E8F0FE;\n",
              "      --fill-color: #1967D2;\n",
              "      --hover-bg-color: #E2EBFA;\n",
              "      --hover-fill-color: #174EA6;\n",
              "      --disabled-fill-color: #AAA;\n",
              "      --disabled-bg-color: #DDD;\n",
              "  }\n",
              "\n",
              "  [theme=dark] .colab-df-quickchart {\n",
              "      --bg-color: #3B4455;\n",
              "      --fill-color: #D2E3FC;\n",
              "      --hover-bg-color: #434B5C;\n",
              "      --hover-fill-color: #FFFFFF;\n",
              "      --disabled-bg-color: #3B4455;\n",
              "      --disabled-fill-color: #666;\n",
              "  }\n",
              "\n",
              "  .colab-df-quickchart {\n",
              "    background-color: var(--bg-color);\n",
              "    border: none;\n",
              "    border-radius: 50%;\n",
              "    cursor: pointer;\n",
              "    display: none;\n",
              "    fill: var(--fill-color);\n",
              "    height: 32px;\n",
              "    padding: 0;\n",
              "    width: 32px;\n",
              "  }\n",
              "\n",
              "  .colab-df-quickchart:hover {\n",
              "    background-color: var(--hover-bg-color);\n",
              "    box-shadow: 0 1px 2px rgba(60, 64, 67, 0.3), 0 1px 3px 1px rgba(60, 64, 67, 0.15);\n",
              "    fill: var(--button-hover-fill-color);\n",
              "  }\n",
              "\n",
              "  .colab-df-quickchart-complete:disabled,\n",
              "  .colab-df-quickchart-complete:disabled:hover {\n",
              "    background-color: var(--disabled-bg-color);\n",
              "    fill: var(--disabled-fill-color);\n",
              "    box-shadow: none;\n",
              "  }\n",
              "\n",
              "  .colab-df-spinner {\n",
              "    border: 2px solid var(--fill-color);\n",
              "    border-color: transparent;\n",
              "    border-bottom-color: var(--fill-color);\n",
              "    animation:\n",
              "      spin 1s steps(1) infinite;\n",
              "  }\n",
              "\n",
              "  @keyframes spin {\n",
              "    0% {\n",
              "      border-color: transparent;\n",
              "      border-bottom-color: var(--fill-color);\n",
              "      border-left-color: var(--fill-color);\n",
              "    }\n",
              "    20% {\n",
              "      border-color: transparent;\n",
              "      border-left-color: var(--fill-color);\n",
              "      border-top-color: var(--fill-color);\n",
              "    }\n",
              "    30% {\n",
              "      border-color: transparent;\n",
              "      border-left-color: var(--fill-color);\n",
              "      border-top-color: var(--fill-color);\n",
              "      border-right-color: var(--fill-color);\n",
              "    }\n",
              "    40% {\n",
              "      border-color: transparent;\n",
              "      border-right-color: var(--fill-color);\n",
              "      border-top-color: var(--fill-color);\n",
              "    }\n",
              "    60% {\n",
              "      border-color: transparent;\n",
              "      border-right-color: var(--fill-color);\n",
              "    }\n",
              "    80% {\n",
              "      border-color: transparent;\n",
              "      border-right-color: var(--fill-color);\n",
              "      border-bottom-color: var(--fill-color);\n",
              "    }\n",
              "    90% {\n",
              "      border-color: transparent;\n",
              "      border-bottom-color: var(--fill-color);\n",
              "    }\n",
              "  }\n",
              "</style>\n",
              "\n",
              "      <script>\n",
              "        async function quickchart(key) {\n",
              "          const quickchartButtonEl =\n",
              "            document.querySelector('#' + key + ' button');\n",
              "          quickchartButtonEl.disabled = true;  // To prevent multiple clicks.\n",
              "          quickchartButtonEl.classList.add('colab-df-spinner');\n",
              "          try {\n",
              "            const charts = await google.colab.kernel.invokeFunction(\n",
              "                'suggestCharts', [key], {});\n",
              "          } catch (error) {\n",
              "            console.error('Error during call to suggestCharts:', error);\n",
              "          }\n",
              "          quickchartButtonEl.classList.remove('colab-df-spinner');\n",
              "          quickchartButtonEl.classList.add('colab-df-quickchart-complete');\n",
              "        }\n",
              "        (() => {\n",
              "          let quickchartButtonEl =\n",
              "            document.querySelector('#df-c8fb52ee-2cae-458d-9134-dde06c3657d9 button');\n",
              "          quickchartButtonEl.style.display =\n",
              "            google.colab.kernel.accessAllowed ? 'block' : 'none';\n",
              "        })();\n",
              "      </script>\n",
              "    </div>\n",
              "\n",
              "  <div id=\"id_f3aef78f-a39e-4435-b867-ac3d79a2228c\">\n",
              "    <style>\n",
              "      .colab-df-generate {\n",
              "        background-color: #E8F0FE;\n",
              "        border: none;\n",
              "        border-radius: 50%;\n",
              "        cursor: pointer;\n",
              "        display: none;\n",
              "        fill: #1967D2;\n",
              "        height: 32px;\n",
              "        padding: 0 0 0 0;\n",
              "        width: 32px;\n",
              "      }\n",
              "\n",
              "      .colab-df-generate:hover {\n",
              "        background-color: #E2EBFA;\n",
              "        box-shadow: 0px 1px 2px rgba(60, 64, 67, 0.3), 0px 1px 3px 1px rgba(60, 64, 67, 0.15);\n",
              "        fill: #174EA6;\n",
              "      }\n",
              "\n",
              "      [theme=dark] .colab-df-generate {\n",
              "        background-color: #3B4455;\n",
              "        fill: #D2E3FC;\n",
              "      }\n",
              "\n",
              "      [theme=dark] .colab-df-generate:hover {\n",
              "        background-color: #434B5C;\n",
              "        box-shadow: 0px 1px 3px 1px rgba(0, 0, 0, 0.15);\n",
              "        filter: drop-shadow(0px 1px 2px rgba(0, 0, 0, 0.3));\n",
              "        fill: #FFFFFF;\n",
              "      }\n",
              "    </style>\n",
              "    <button class=\"colab-df-generate\" onclick=\"generateWithVariable('summary')\"\n",
              "            title=\"Generate code using this dataframe.\"\n",
              "            style=\"display:none;\">\n",
              "\n",
              "  <svg xmlns=\"http://www.w3.org/2000/svg\" height=\"24px\"viewBox=\"0 0 24 24\"\n",
              "       width=\"24px\">\n",
              "    <path d=\"M7,19H8.4L18.45,9,17,7.55,7,17.6ZM5,21V16.75L18.45,3.32a2,2,0,0,1,2.83,0l1.4,1.43a1.91,1.91,0,0,1,.58,1.4,1.91,1.91,0,0,1-.58,1.4L9.25,21ZM18.45,9,17,7.55Zm-12,3A5.31,5.31,0,0,0,4.9,8.1,5.31,5.31,0,0,0,1,6.5,5.31,5.31,0,0,0,4.9,4.9,5.31,5.31,0,0,0,6.5,1,5.31,5.31,0,0,0,8.1,4.9,5.31,5.31,0,0,0,12,6.5,5.46,5.46,0,0,0,6.5,12Z\"/>\n",
              "  </svg>\n",
              "    </button>\n",
              "    <script>\n",
              "      (() => {\n",
              "      const buttonEl =\n",
              "        document.querySelector('#id_f3aef78f-a39e-4435-b867-ac3d79a2228c button.colab-df-generate');\n",
              "      buttonEl.style.display =\n",
              "        google.colab.kernel.accessAllowed ? 'block' : 'none';\n",
              "\n",
              "      buttonEl.onclick = () => {\n",
              "        google.colab.notebook.generateWithVariable('summary');\n",
              "      }\n",
              "      })();\n",
              "    </script>\n",
              "  </div>\n",
              "\n",
              "    </div>\n",
              "  </div>\n"
            ],
            "application/vnd.google.colaboratory.intrinsic+json": {
              "type": "dataframe",
              "variable_name": "summary",
              "summary": "{\n  \"name\": \"summary\",\n  \"rows\": 7,\n  \"fields\": [\n    {\n      \"column\": \"category\",\n      \"properties\": {\n        \"dtype\": \"string\",\n        \"num_unique_values\": 7,\n        \"samples\": [\n          \"Shrubland\",\n          \"Other\",\n          \"Water\"\n        ],\n        \"semantic_type\": \"\",\n        \"description\": \"\"\n      }\n    },\n    {\n      \"column\": \"pixel_count\",\n      \"properties\": {\n        \"dtype\": \"number\",\n        \"std\": 24623,\n        \"min\": 1589,\n        \"max\": 63254,\n        \"num_unique_values\": 7,\n        \"samples\": [\n          63254,\n          48035,\n          3446\n        ],\n        \"semantic_type\": \"\",\n        \"description\": \"\"\n      }\n    },\n    {\n      \"column\": \"area_ha\",\n      \"properties\": {\n        \"dtype\": \"number\",\n        \"std\": 2216.1400942436567,\n        \"min\": 143.01,\n        \"max\": 5692.86,\n        \"num_unique_values\": 7,\n        \"samples\": [\n          5692.86,\n          4323.15,\n          310.14\n        ],\n        \"semantic_type\": \"\",\n        \"description\": \"\"\n      }\n    }\n  ]\n}"
            }
          },
          "metadata": {},
          "execution_count": 5
        }
      ]
    },
    {
      "cell_type": "code",
      "source": [
        "print(summary)\n"
      ],
      "metadata": {
        "id": "jJa2opskEWcn",
        "outputId": "9967dba1-4e7a-40b4-8ebb-280d6e34b419",
>>>>>>> 9a5e669 (Update data_ingest notebook with summary plot code)
        "colab": {
          "base_uri": "https://localhost:8080/"
        }
      },
<<<<<<< HEAD
      "execution_count": 16,
=======
      "execution_count": 6,
>>>>>>> 9a5e669 (Update data_ingest notebook with summary plot code)
      "outputs": [
        {
          "output_type": "stream",
          "name": "stdout",
          "text": [
<<<<<<< HEAD
            "Contents of /content/drive/My Drive/NLCD →\n",
            "[]\n"
          ]
        }
      ]
=======
            "      category  pixel_count  area_ha\n",
            "0    Shrubland        63254  5692.86\n",
            "1        Other        48035  4323.15\n",
            "2       Forest        17161  1544.49\n",
            "3  Agriculture         7506   675.54\n",
            "4        Urban         5509   495.81\n",
            "5        Water         3446   310.14\n",
            "6     Wetlands         1589   143.01\n"
          ]
        }
      ]
    },
    {
      "cell_type": "code",
      "source": [
        "summary.plot.bar(x=\"category\", y=\"area_ha\", legend=False)\n",
        "plt.ylabel(\"Area (ha)\")\n",
        "plt.title(\"Land‐cover Area by Category (Downsampled Preview)\")\n",
        "plt.tight_layout()\n",
        "plt.show()\n",
        "\n"
      ],
      "metadata": {
        "id": "4pTHL-qbEYPA",
        "outputId": "588bbbe6-51cc-4b44-8b3e-d2c842337f29",
        "colab": {
          "base_uri": "https://localhost:8080/",
          "height": 487
        }
      },
      "execution_count": 7,
      "outputs": [
        {
          "output_type": "display_data",
          "data": {
            "text/plain": [
              "<Figure size 640x480 with 1 Axes>"
            ],
            "image/png": "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\n"
          },
          "metadata": {}
        }
      ]
>>>>>>> 9a5e669 (Update data_ingest notebook with summary plot code)
    }
  ]
}